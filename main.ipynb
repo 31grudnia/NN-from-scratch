{
 "cells": [
  {
   "cell_type": "markdown",
   "metadata": {},
   "source": [
    "# Imports"
   ]
  },
  {
   "cell_type": "code",
   "execution_count": 12,
   "metadata": {},
   "outputs": [],
   "source": [
    "import numpy as np\n",
    "import matplotlib.pyplot as plt\n",
    "import matplotlib.cm as cm\n",
    "\n",
    "from nn_with_py.NNModels.Model import Model\n",
    "from nn_with_py.Layers.LayerDense import Layer_Dense\n",
    "from nn_with_py.Layers.LayerDropout import Layer_Dropout\n",
    "from nn_with_py.ActivationFunctions.ActivationRelu import Activation_Relu\n",
    "from nn_with_py.ActivationFunctions.ActivationSoftmax import Activation_Softmax\n",
    "from nn_with_py.LossFunctions.LossCategoricalCrossentropy import Loss_CategoricalCrossentropy\n",
    "from nn_with_py.Optimizers.OptimizerAdam import Optimizer_Adam\n",
    "from nn_with_py.Accuracy.AccuracyCategorical import Accuracy_Categorical"
   ]
  },
  {
   "cell_type": "markdown",
   "metadata": {},
   "source": [
    "# Data Loading"
   ]
  },
  {
   "cell_type": "code",
   "execution_count": 17,
   "metadata": {},
   "outputs": [
    {
     "data": {
      "text/plain": [
       "32"
      ]
     },
     "execution_count": 17,
     "metadata": {},
     "output_type": "execute_result"
    }
   ],
   "source": [
    "PATH = \"/Users/mikolajstarczewski/Desktop/Magisterka/NN_with_py/nn_with_py/data_files/\"\n",
    "\n",
    "X_train = np.load(PATH + \"X_train.npy\")\n",
    "X_test = np.load(PATH + \"X_test.npy\")\n",
    "Y_train = np.load(PATH + \"Y_train_ohe.npy\")\n",
    "Y_test = np.load(PATH + \"Y_test_ohe.npy\")"
   ]
  },
  {
   "cell_type": "code",
   "execution_count": 14,
   "metadata": {},
   "outputs": [
    {
     "name": "stdout",
     "output_type": "stream",
     "text": [
      "(446524, 1024)\n",
      "(1024,)\n",
      "1024\n",
      "(55815, 1024)\n",
      "(1024,)\n"
     ]
    }
   ],
   "source": [
    "# Flattening Data\n",
    "X_train = X_train.reshape(X_train.shape[0], -1)\n",
    "X_test = X_test.reshape(X_test.shape[0], -1)\n",
    "\n",
    "print(X_train.shape)\n",
    "print(X_train[0].shape)\n",
    "print(32*32)\n",
    "print(X_test.shape)\n",
    "print(X_test[0].shape)"
   ]
  },
  {
   "cell_type": "markdown",
   "metadata": {},
   "source": [
    "# Creating Neural Network Model"
   ]
  },
  {
   "cell_type": "code",
   "execution_count": 15,
   "metadata": {},
   "outputs": [],
   "source": [
    "nn_model_w_py = Model()\n",
    "\n",
    "nn_model_w_py.add(Layer_Dense(X_train.shape[1], 1024, \n",
    "                              weight_regularizer_l2=5e-6, bias_regularizer_l2=5e-6))\n",
    "nn_model_w_py.add(Activation_Relu())\n",
    "nn_model_w_py.add(Layer_Dense(1024, 512))\n",
    "nn_model_w_py.add(Activation_Relu())\n",
    "nn_model_w_py.add(Layer_Dense(512, 256))\n",
    "nn_model_w_py.add(Activation_Relu())\n",
    "nn_model_w_py.add(Layer_Dropout(0.2))\n",
    "nn_model_w_py.add(Layer_Dense(256, 128))\n",
    "nn_model_w_py.add(Activation_Relu())\n",
    "nn_model_w_py.add(Layer_Dropout(0.2))\n",
    "nn_model_w_py.add(Layer_Dense(128, 89))\n",
    "nn_model_w_py.add(Activation_Softmax())\n",
    "\n",
    "nn_model_w_py.set(\n",
    "    loss=Loss_CategoricalCrossentropy(),\n",
    "    optimizer=Optimizer_Adam(decay=1e-6),\n",
    "    accuracy=Accuracy_Categorical()\n",
    ")\n",
    "\n",
    "nn_model_w_py.finalize()"
   ]
  },
  {
   "cell_type": "markdown",
   "metadata": {},
   "source": [
    "# Training"
   ]
  },
  {
   "cell_type": "code",
   "execution_count": 16,
   "metadata": {},
   "outputs": [
    {
     "name": "stdout",
     "output_type": "stream",
     "text": [
      "epoch: 1\n",
      "step: 0, acc: 0.000, loss: 4.489 (data_loss: 4.489, reg_loss: 0.001), lr: 0.001\n",
      "step: 1000, acc: 0.219, loss: 2.745 (data_loss: 2.744, reg_loss: 0.001), lr: 0.0009990009990009992\n",
      "step: 2000, acc: 0.398, loss: 2.087 (data_loss: 2.086, reg_loss: 0.002), lr: 0.000998003992015968\n",
      "step: 3000, acc: 0.469, loss: 1.502 (data_loss: 1.500, reg_loss: 0.002), lr: 0.0009970089730807579\n",
      "step: 3488, acc: 0.433, loss: 1.527 (data_loss: 1.524, reg_loss: 0.002), lr: 0.0009965241238559903\n",
      "training, acc: 0.331, loss: 2.385 (data_loss: 2.382, reg_loss: 0.002), lr: 0.0009965241238559903\n",
      "validation, acc: 0.600, loss: 1.277\n",
      "epoch: 2\n",
      "step: 0, acc: 0.570, loss: 1.325 (data_loss: 1.323, reg_loss: 0.002), lr: 0.0009965231307966504\n",
      "step: 1000, acc: 0.602, loss: 1.288 (data_loss: 1.285, reg_loss: 0.003), lr: 0.0009955310610668708\n",
      "step: 2000, acc: 0.633, loss: 1.219 (data_loss: 1.216, reg_loss: 0.003), lr: 0.0009945409646450632\n",
      "step: 3000, acc: 0.648, loss: 0.982 (data_loss: 0.978, reg_loss: 0.004), lr: 0.0009935528356494706\n",
      "step: 3488, acc: 0.650, loss: 0.972 (data_loss: 0.968, reg_loss: 0.004), lr: 0.0009930713412520842\n",
      "training, acc: 0.613, loss: 1.224 (data_loss: 1.220, reg_loss: 0.004), lr: 0.0009930713412520842\n",
      "validation, acc: 0.691, loss: 0.941\n",
      "epoch: 3\n",
      "step: 0, acc: 0.688, loss: 1.042 (data_loss: 1.038, reg_loss: 0.004), lr: 0.0009930703550623749\n",
      "step: 1000, acc: 0.625, loss: 0.959 (data_loss: 0.955, reg_loss: 0.005), lr: 0.00099208514471546\n",
      "step: 2000, acc: 0.664, loss: 1.090 (data_loss: 1.084, reg_loss: 0.005), lr: 0.0009911018872562137\n",
      "step: 3000, acc: 0.648, loss: 1.036 (data_loss: 1.031, reg_loss: 0.006), lr: 0.000990120576883853\n",
      "step: 3488, acc: 0.667, loss: 1.017 (data_loss: 1.011, reg_loss: 0.006), lr: 0.0009896424026142393\n",
      "training, acc: 0.675, loss: 1.006 (data_loss: 1.001, reg_loss: 0.006), lr: 0.0009896424026142393\n",
      "validation, acc: 0.722, loss: 0.822\n"
     ]
    },
    {
     "data": {
      "text/plain": [
       "([np.float64(2.384650955116103),\n",
       "  np.float64(1.2244672743957132),\n",
       "  np.float64(1.0064559179454806)],\n",
       " [np.float64(0.3306765145882416),\n",
       "  np.float64(0.6129278605405308),\n",
       "  np.float64(0.674608755632396)],\n",
       " [np.float64(1.2769849920586909),\n",
       "  np.float64(0.9410366030653794),\n",
       "  np.float64(0.8217078088526113)],\n",
       " [np.float64(0.6002866612917674),\n",
       "  np.float64(0.690817880498074),\n",
       "  np.float64(0.7222072919466094)])"
      ]
     },
     "execution_count": 16,
     "metadata": {},
     "output_type": "execute_result"
    }
   ],
   "source": [
    "nn_model_w_py_history = nn_model_w_py.train(X_train, Y_train, \n",
    "                                            validation_data=(X_test, Y_test), \n",
    "                                            epochs=3,  # 30\n",
    "                                            batch_size=128,\n",
    "                                            print_every=1000)"
   ]
  },
  {
   "cell_type": "markdown",
   "metadata": {},
   "source": [
    "- <h3> Saving params (model needs to be initialized with same exact composition)\n",
    "- <h3> Saving whole model"
   ]
  },
  {
   "cell_type": "code",
   "execution_count": 97,
   "metadata": {},
   "outputs": [],
   "source": [
    "MODEL_PROPS_PATH = \"/Users/mikolajstarczewski/Desktop/Magisterka/NN_with_py/nn_with_py/NNModels/properties/\"\n",
    "\n",
    "nn_model_w_py.save_parameters(MODEL_PROPS_PATH + 'nn_model_w_py_params.parms')\n",
    "nn_model_w_py.save(MODEL_PROPS_PATH + 'nn_model_w_py_model.model')"
   ]
  },
  {
   "cell_type": "markdown",
   "metadata": {},
   "source": [
    "# Validation"
   ]
  },
  {
   "cell_type": "code",
   "execution_count": 77,
   "metadata": {},
   "outputs": [],
   "source": [
    "X_val = np.load(PATH + \"X_val.npy\")\n",
    "X_val = X_val.reshape(X_val.shape[0], -1)\n",
    "Y_val = np.load(PATH + \"Y_val.npy\")"
   ]
  },
  {
   "cell_type": "code",
   "execution_count": 78,
   "metadata": {},
   "outputs": [
    {
     "data": {
      "image/png": "[encoded data removed]",
      "text/plain": [
       "<Figure size 640x480 with 1 Axes>"
      ]
     },
     "metadata": {},
     "output_type": "display_data"
    }
   ],
   "source": [
    "for index in range(1, 2):\n",
    "    plt.title((Y_val[index]))\n",
    "    plt.imshow(X_val[index].reshape(32,32), cmap=cm.binary)\n",
    "    plt.show()"
   ]
  },
  {
   "cell_type": "code",
   "execution_count": null,
   "metadata": {},
   "outputs": [],
   "source": [
    "confidences = nn_model_w_py.predict(X_val[1])"
   ]
  },
  {
   "cell_type": "markdown",
   "metadata": {},
   "source": [
    "# Tests"
   ]
  },
  {
   "cell_type": "code",
   "execution_count": 32,
   "metadata": {},
   "outputs": [
    {
     "name": "stdout",
     "output_type": "stream",
     "text": [
      "validation, acc: 0.722, loss: 0.851\n"
     ]
    }
   ],
   "source": [
    "nn_model_w_py_v2 = Model()\n",
    "\n",
    "nn_model_w_py_v2.add(Layer_Dense(X_train.shape[1], 256))\n",
    "nn_model_w_py_v2.add(Activation_Relu())\n",
    "nn_model_w_py_v2.add(Layer_Dense(256, 128))\n",
    "nn_model_w_py_v2.add(Activation_Relu())\n",
    "nn_model_w_py_v2.add(Layer_Dense(128, 128))\n",
    "nn_model_w_py_v2.add(Activation_Relu())\n",
    "nn_model_w_py_v2.add(Layer_Dropout(0.2))\n",
    "nn_model_w_py_v2.add(Layer_Dense(128, 89))\n",
    "nn_model_w_py_v2.add(Activation_Softmax())\n",
    "\n",
    "nn_model_w_py_v2.set(\n",
    "    loss=Loss_CategoricalCrossentropy(),\n",
    "    accuracy=Accuracy_Categorical()\n",
    ")\n",
    "\n",
    "nn_model_w_py_v2.finalize()\n",
    "nn_model_w_py_v2.load_parameters(MODEL_PROPS_PATH + 'nn_model_w_py_params.parms')\n",
    "nn_model_w_py_v2.evaluate(X_val, Y_val)"
   ]
  },
  {
   "cell_type": "code",
   "execution_count": 98,
   "metadata": {},
   "outputs": [
    {
     "name": "stdout",
     "output_type": "stream",
     "text": [
      "validation, acc: 0.777, loss: 0.656\n"
     ]
    }
   ],
   "source": [
    "loaded_model = Model.load(MODEL_PROPS_PATH + 'nn_model_w_py_model.model')\n",
    "loaded_model.evaluate(X_test, Y_test)"
   ]
  },
  {
   "cell_type": "code",
   "execution_count": 103,
   "metadata": {},
   "outputs": [
    {
     "name": "stdout",
     "output_type": "stream",
     "text": [
      "True value: 24\n",
      "Predicted: 24\n",
      "---------------\n",
      "True value: 77\n",
      "Predicted: 5\n",
      "---------------\n",
      "True value: 1\n",
      "Predicted: 1\n",
      "---------------\n",
      "True value: 83\n",
      "Predicted: 83\n",
      "---------------\n",
      "True value: 76\n",
      "Predicted: 76\n",
      "---------------\n",
      "True value: 6\n",
      "Predicted: 6\n",
      "---------------\n",
      "True value: 61\n",
      "Predicted: 61\n",
      "---------------\n",
      "True value: 27\n",
      "Predicted: 36\n",
      "---------------\n",
      "True value: 78\n",
      "Predicted: 74\n",
      "---------------\n",
      "True value: 86\n",
      "Predicted: 86\n",
      "---------------\n",
      "True value: 86\n",
      "Predicted: 86\n",
      "---------------\n",
      "True value: 39\n",
      "Predicted: 39\n",
      "---------------\n",
      "True value: 44\n",
      "Predicted: 44\n",
      "---------------\n",
      "True value: 77\n",
      "Predicted: 69\n",
      "---------------\n",
      "True value: 5\n",
      "Predicted: 5\n",
      "---------------\n",
      "True value: 71\n",
      "Predicted: 71\n",
      "---------------\n",
      "True value: 54\n",
      "Predicted: 54\n",
      "---------------\n",
      "True value: 81\n",
      "Predicted: 81\n",
      "---------------\n",
      "True value: 44\n",
      "Predicted: 44\n",
      "---------------\n",
      "True value: 88\n",
      "Predicted: 81\n",
      "---------------\n",
      "True value: 87\n",
      "Predicted: 87\n",
      "---------------\n",
      "True value: 63\n",
      "Predicted: 72\n",
      "---------------\n",
      "True value: 47\n",
      "Predicted: 47\n",
      "---------------\n",
      "True value: 18\n",
      "Predicted: 18\n",
      "---------------\n",
      "True value: 2\n",
      "Predicted: 2\n",
      "---------------\n",
      "True value: 45\n",
      "Predicted: 28\n",
      "---------------\n",
      "True value: 15\n",
      "Predicted: 15\n",
      "---------------\n",
      "True value: 74\n",
      "Predicted: 29\n",
      "---------------\n",
      "True value: 22\n",
      "Predicted: 22\n",
      "---------------\n",
      "True value: 39\n",
      "Predicted: 39\n",
      "---------------\n",
      "True value: 64\n",
      "Predicted: 14\n",
      "---------------\n",
      "True value: 56\n",
      "Predicted: 56\n",
      "---------------\n",
      "True value: 39\n",
      "Predicted: 39\n",
      "---------------\n",
      "True value: 85\n",
      "Predicted: 85\n",
      "---------------\n",
      "True value: 48\n",
      "Predicted: 48\n",
      "---------------\n",
      "True value: 66\n",
      "Predicted: 66\n",
      "---------------\n",
      "True value: 88\n",
      "Predicted: 88\n",
      "---------------\n",
      "True value: 39\n",
      "Predicted: 39\n",
      "---------------\n",
      "True value: 87\n",
      "Predicted: 87\n",
      "---------------\n",
      "True value: 70\n",
      "Predicted: 79\n",
      "---------------\n",
      "True value: 75\n",
      "Predicted: 75\n",
      "---------------\n",
      "True value: 88\n",
      "Predicted: 88\n",
      "---------------\n",
      "True value: 29\n",
      "Predicted: 80\n",
      "---------------\n",
      "True value: 86\n",
      "Predicted: 86\n",
      "---------------\n",
      "True value: 7\n",
      "Predicted: 7\n",
      "---------------\n",
      "True value: 79\n",
      "Predicted: 79\n",
      "---------------\n",
      "True value: 57\n",
      "Predicted: 19\n",
      "---------------\n",
      "True value: 37\n",
      "Predicted: 37\n",
      "---------------\n",
      "True value: 84\n",
      "Predicted: 26\n",
      "---------------\n",
      "True value: 56\n",
      "Predicted: 56\n",
      "---------------\n",
      "True value: 59\n",
      "Predicted: 59\n",
      "---------------\n",
      "True value: 55\n",
      "Predicted: 55\n",
      "---------------\n",
      "True value: 33\n",
      "Predicted: 33\n",
      "---------------\n",
      "True value: 77\n",
      "Predicted: 77\n",
      "---------------\n",
      "True value: 76\n",
      "Predicted: 76\n",
      "---------------\n",
      "True value: 16\n",
      "Predicted: 16\n",
      "---------------\n",
      "True value: 12\n",
      "Predicted: 12\n",
      "---------------\n",
      "True value: 22\n",
      "Predicted: 22\n",
      "---------------\n",
      "True value: 55\n",
      "Predicted: 55\n",
      "---------------\n",
      "True value: 26\n",
      "Predicted: 26\n",
      "---------------\n",
      "True value: 51\n",
      "Predicted: 51\n",
      "---------------\n",
      "True value: 11\n",
      "Predicted: 11\n",
      "---------------\n",
      "True value: 23\n",
      "Predicted: 23\n",
      "---------------\n",
      "True value: 51\n",
      "Predicted: 25\n",
      "---------------\n",
      "True value: 55\n",
      "Predicted: 55\n",
      "---------------\n",
      "True value: 8\n",
      "Predicted: 8\n",
      "---------------\n",
      "True value: 24\n",
      "Predicted: 24\n",
      "---------------\n",
      "True value: 19\n",
      "Predicted: 19\n",
      "---------------\n",
      "True value: 12\n",
      "Predicted: 38\n",
      "---------------\n",
      "True value: 13\n",
      "Predicted: 13\n",
      "---------------\n",
      "True value: 59\n",
      "Predicted: 59\n",
      "---------------\n",
      "True value: 29\n",
      "Predicted: 29\n",
      "---------------\n",
      "True value: 21\n",
      "Predicted: 21\n",
      "---------------\n",
      "True value: 52\n",
      "Predicted: 52\n",
      "---------------\n",
      "True value: 83\n",
      "Predicted: 83\n",
      "---------------\n",
      "True value: 40\n",
      "Predicted: 40\n",
      "---------------\n",
      "True value: 22\n",
      "Predicted: 22\n",
      "---------------\n",
      "True value: 20\n",
      "Predicted: 20\n",
      "---------------\n",
      "True value: 82\n",
      "Predicted: 82\n",
      "---------------\n",
      "True value: 85\n",
      "Predicted: 85\n",
      "---------------\n",
      "True value: 71\n",
      "Predicted: 71\n",
      "---------------\n",
      "True value: 39\n",
      "Predicted: 39\n",
      "---------------\n",
      "True value: 45\n",
      "Predicted: 45\n",
      "---------------\n",
      "True value: 22\n",
      "Predicted: 22\n",
      "---------------\n",
      "True value: 5\n",
      "Predicted: 5\n",
      "---------------\n",
      "True value: 9\n",
      "Predicted: 9\n",
      "---------------\n",
      "True value: 9\n",
      "Predicted: 16\n",
      "---------------\n",
      "True value: 84\n",
      "Predicted: 84\n",
      "---------------\n",
      "True value: 33\n",
      "Predicted: 33\n",
      "---------------\n",
      "True value: 31\n",
      "Predicted: 66\n",
      "---------------\n",
      "True value: 87\n",
      "Predicted: 87\n",
      "---------------\n",
      "True value: 35\n",
      "Predicted: 61\n",
      "---------------\n",
      "True value: 8\n",
      "Predicted: 8\n",
      "---------------\n",
      "True value: 50\n",
      "Predicted: 50\n",
      "---------------\n",
      "True value: 47\n",
      "Predicted: 47\n",
      "---------------\n",
      "True value: 85\n",
      "Predicted: 85\n",
      "---------------\n",
      "True value: 7\n",
      "Predicted: 86\n",
      "---------------\n",
      "True value: 8\n",
      "Predicted: 8\n",
      "---------------\n",
      "True value: 24\n",
      "Predicted: 50\n",
      "---------------\n",
      "True value: 74\n",
      "Predicted: 74\n",
      "---------------\n",
      "Mean 0.8\n"
     ]
    }
   ],
   "source": [
    "good_vals = 0\n",
    "all_vals = 100\n",
    "for i in range(0, all_vals):\n",
    "    confidences = loaded_model.predict(X_val[i])\n",
    "    print(f\"True value: {Y_val[i]}\")\n",
    "    print(f\"Predicted: {np.argmax(confidences)}\")\n",
    "    print(\"---------------\")\n",
    "    if np.argmax(confidences) == Y_val[i]:\n",
    "        good_vals += 1\n",
    "print(f\"Mean {(good_vals/all_vals):.3}\")"
   ]
  },
  {
   "cell_type": "markdown",
   "metadata": {},
   "source": [
    "<h1> Test for history parameter"
   ]
  },
  {
   "cell_type": "code",
   "execution_count": 8,
   "metadata": {},
   "outputs": [],
   "source": [
    "nn_model_w_py = Model()\n",
    "\n",
    "nn_model_w_py.add(Layer_Dense(X_train.shape[1], 128, \n",
    "                              weight_regularizer_l2=5e-6, bias_regularizer_l2=5e-6))\n",
    "nn_model_w_py.add(Activation_Relu())\n",
    "nn_model_w_py.add(Layer_Dense(128, 128))\n",
    "nn_model_w_py.add(Activation_Relu())\n",
    "nn_model_w_py.add(Layer_Dense(128, 89))\n",
    "nn_model_w_py.add(Activation_Softmax())\n",
    "\n",
    "nn_model_w_py.set(\n",
    "    loss=Loss_CategoricalCrossentropy(),\n",
    "    optimizer=Optimizer_Adam(decay=1e-6),\n",
    "    accuracy=Accuracy_Categorical()\n",
    ")\n",
    "\n",
    "nn_model_w_py.finalize()"
   ]
  },
  {
   "cell_type": "code",
   "execution_count": 9,
   "metadata": {},
   "outputs": [
    {
     "name": "stdout",
     "output_type": "stream",
     "text": [
      "epoch: 1\n",
      "step: 0, acc: 0.000, loss: 4.489 (data_loss: 4.489, reg_loss: 0.000), lr: 0.001\n",
      "step: 1000, acc: 0.422, loss: 2.166 (data_loss: 2.165, reg_loss: 0.001), lr: 0.0009990009990009992\n",
      "step: 2000, acc: 0.539, loss: 1.791 (data_loss: 1.790, reg_loss: 0.001), lr: 0.000998003992015968\n",
      "step: 3000, acc: 0.570, loss: 1.256 (data_loss: 1.255, reg_loss: 0.001), lr: 0.0009970089730807579\n",
      "step: 3488, acc: 0.567, loss: 1.563 (data_loss: 1.561, reg_loss: 0.001), lr: 0.0009965241238559903\n",
      "training, acc: 0.468, loss: 1.886 (data_loss: 1.885, reg_loss: 0.001), lr: 0.0009965241238559903\n",
      "validation, acc: 0.611, loss: 1.308\n",
      "epoch: 2\n",
      "step: 0, acc: 0.648, loss: 1.185 (data_loss: 1.183, reg_loss: 0.001), lr: 0.0009965231307966504\n",
      "step: 1000, acc: 0.578, loss: 1.410 (data_loss: 1.409, reg_loss: 0.002), lr: 0.0009955310610668708\n",
      "step: 2000, acc: 0.625, loss: 1.320 (data_loss: 1.318, reg_loss: 0.002), lr: 0.0009945409646450632\n",
      "step: 3000, acc: 0.672, loss: 0.976 (data_loss: 0.974, reg_loss: 0.002), lr: 0.0009935528356494706\n",
      "step: 3488, acc: 0.633, loss: 1.313 (data_loss: 1.311, reg_loss: 0.002), lr: 0.0009930713412520842\n",
      "training, acc: 0.644, loss: 1.165 (data_loss: 1.163, reg_loss: 0.002), lr: 0.0009930713412520842\n",
      "validation, acc: 0.673, loss: 1.056\n",
      "epoch: 3\n",
      "step: 0, acc: 0.711, loss: 0.981 (data_loss: 0.979, reg_loss: 0.002), lr: 0.0009930703550623749\n",
      "step: 1000, acc: 0.648, loss: 1.213 (data_loss: 1.211, reg_loss: 0.002), lr: 0.00099208514471546\n",
      "step: 2000, acc: 0.672, loss: 1.211 (data_loss: 1.209, reg_loss: 0.002), lr: 0.0009911018872562137\n",
      "step: 3000, acc: 0.703, loss: 0.874 (data_loss: 0.872, reg_loss: 0.002), lr: 0.000990120576883853\n",
      "step: 3488, acc: 0.600, loss: 1.176 (data_loss: 1.174, reg_loss: 0.002), lr: 0.0009896424026142393\n",
      "training, acc: 0.683, loss: 1.011 (data_loss: 1.008, reg_loss: 0.002), lr: 0.0009896424026142393\n",
      "validation, acc: 0.696, loss: 0.962\n",
      "epoch: 4\n",
      "step: 0, acc: 0.711, loss: 0.899 (data_loss: 0.897, reg_loss: 0.002), lr: 0.0009896414232231235\n",
      "step: 1000, acc: 0.648, loss: 1.139 (data_loss: 1.136, reg_loss: 0.003), lr: 0.0009886630013633663\n",
      "step: 2000, acc: 0.656, loss: 1.164 (data_loss: 1.161, reg_loss: 0.003), lr: 0.0009876865122517573\n",
      "step: 3000, acc: 0.719, loss: 0.827 (data_loss: 0.825, reg_loss: 0.003), lr: 0.0009867119501670999\n",
      "step: 3488, acc: 0.600, loss: 1.123 (data_loss: 1.120, reg_loss: 0.003), lr: 0.0009862370618025456\n",
      "training, acc: 0.699, loss: 0.945 (data_loss: 0.943, reg_loss: 0.003), lr: 0.0009862370618025456\n",
      "validation, acc: 0.710, loss: 0.916\n",
      "epoch: 5\n",
      "step: 0, acc: 0.734, loss: 0.829 (data_loss: 0.826, reg_loss: 0.003), lr: 0.0009862360891399627\n",
      "step: 1000, acc: 0.648, loss: 1.080 (data_loss: 1.077, reg_loss: 0.003), lr: 0.0009852643858452978\n",
      "step: 2000, acc: 0.656, loss: 1.127 (data_loss: 1.124, reg_loss: 0.003), lr: 0.0009842945954352353\n",
      "step: 3000, acc: 0.719, loss: 0.817 (data_loss: 0.814, reg_loss: 0.003), lr: 0.0009833267122668042\n",
      "step: 3488, acc: 0.650, loss: 1.019 (data_loss: 1.016, reg_loss: 0.003), lr: 0.0009828550760533259\n",
      "training, acc: 0.709, loss: 0.906 (data_loss: 0.903, reg_loss: 0.003), lr: 0.0009828550760533259\n",
      "validation, acc: 0.717, loss: 0.885\n"
     ]
    }
   ],
   "source": [
    "history_train_loss, history_train_acc, history_test_loss, history_test_acc = nn_model_w_py.train(X_train, Y_train, \n",
    "                    validation_data=(X_test, Y_test), \n",
    "                    epochs=5,  \n",
    "                    batch_size=128,\n",
    "                    print_every=1000)"
   ]
  },
  {
   "cell_type": "code",
   "execution_count": 11,
   "metadata": {},
   "outputs": [
    {
     "data": {
      "image/png": "[encoded data removed]",
      "text/plain": [
       "<Figure size 1400x600 with 2 Axes>"
      ]
     },
     "metadata": {},
     "output_type": "display_data"
    }
   ],
   "source": [
    "plt.figure(figsize=(14, 6))\n",
    "epochs = range(1, 6)  # 5 epochs\n",
    "# Loss Plot\n",
    "plt.subplot(1, 2, 1)\n",
    "plt.plot(epochs, history_train_loss, 'b', label='Training loss')\n",
    "plt.plot(epochs, history_test_loss, 'r', label='Testing loss')\n",
    "plt.title('Training and Testing Loss')\n",
    "plt.xlabel('Epochs')\n",
    "plt.ylabel('Loss')\n",
    "plt.legend()\n",
    "\n",
    "# Accuracy Plot\n",
    "plt.subplot(1, 2, 2)\n",
    "plt.plot(epochs, history_train_acc, 'b', label='Training Accuracy')\n",
    "plt.plot(epochs, history_test_acc, 'r', label='Testing Accuracy')\n",
    "plt.title('Training and Testing Accuracy')\n",
    "plt.xlabel('Epochs')\n",
    "plt.ylabel('Accuracy')\n",
    "plt.legend()\n",
    "\n",
    "plt.tight_layout()\n",
    "plt.show()"
   ]
  },
  {
   "cell_type": "code",
   "execution_count": null,
   "metadata": {},
   "outputs": [],
   "source": []
  }
 ],
 "metadata": {
  "kernelspec": {
   "display_name": "nn-with-py-04WZxK0C-py3.12",
   "language": "python",
   "name": "python3"
  },
  "language_info": {
   "codemirror_mode": {
    "name": "ipython",
    "version": 3
   },
   "file_extension": ".py",
   "mimetype": "text/x-python",
   "name": "python",
   "nbconvert_exporter": "python",
   "pygments_lexer": "ipython3",
   "version": "3.12.5"
  }
 },
 "nbformat": 4,
 "nbformat_minor": 2
}
