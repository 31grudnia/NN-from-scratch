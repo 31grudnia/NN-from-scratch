{
 "cells": [
  {
   "cell_type": "markdown",
   "metadata": {},
   "source": [
    "<h3> Imports"
   ]
  },
  {
   "cell_type": "code",
   "execution_count": 1,
   "metadata": {},
   "outputs": [],
   "source": [
    "import numpy as np\n",
    "import numpy as np\n",
    "import json \n",
    "import matplotlib.pyplot as plt\n",
    "import matplotlib.cm as cm \n",
    "from sklearn.model_selection import train_test_split"
   ]
  },
  {
   "cell_type": "markdown",
   "metadata": {},
   "source": [
    "<h3> Fetching data from .npy and .jsom files </h3>"
   ]
  },
  {
   "cell_type": "markdown",
   "metadata": {},
   "source": [
    "1. signs.npy:\n",
    "    - scaled to 32x32 px images having not undergone binarization process\n",
    "    - the images are stored as 2D arrays of uint8 type filled with 0 or 255.\n",
    "    - the arrays are collected into one 3D array having the following dimensions: (image_number x 32 x 32)\n",
    "---\n",
    "2. labels_int.npy:\n",
    "    - class labels stored in the uint8 data type arrays. The labels are char codes described in the chapters 1 and 2 (0-88).\n",
    "    - the array size is (image_number x 1).\n",
    "    - i-th element of the class label array corresponds to the i-th elements of signs.npy and binarized_signs.npy files.\n",
    "---\n",
    "3. dictionary.json:\n",
    "    - the dictionary of the character codes assigned to the characters "
   ]
  },
  {
   "cell_type": "code",
   "execution_count": 9,
   "metadata": {},
   "outputs": [],
   "source": [
    "from nn_with_py.utils.data_setup import load_files\n",
    "\n",
    "PATH = \"/Users/mikolajstarczewski/Desktop/Magisterka/NN_with_py/nn_with_py/data_fiiles/\"\n",
    "\n",
    "signs, labels = load_files(PATH)"
   ]
  },
  {
   "cell_type": "markdown",
   "metadata": {},
   "source": [
    "<h3> Some basic info"
   ]
  },
  {
   "cell_type": "code",
   "execution_count": 10,
   "metadata": {},
   "outputs": [
    {
     "name": "stdout",
     "output_type": "stream",
     "text": [
      "\n",
      "SIGNS\n",
      "Type: <class 'numpy.ndarray'>\n",
      "Shape: (558155, 32, 32)\n",
      "LABELS\n",
      "Type: <class 'numpy.ndarray'>\n",
      "Shape: (558155,)\n",
      "Characters index: 13\n",
      "558155\n"
     ]
    }
   ],
   "source": [
    "print(f\"\")\n",
    "print(\"SIGNS\")\n",
    "print(f\"Type: {type(signs)}\")\n",
    "print(f\"Shape: {signs.shape}\")\n",
    "\n",
    "print(\"LABELS\")\n",
    "print(f\"Type: {type(labels)}\")\n",
    "print(f\"Shape: {labels.shape}\")\n",
    "print(f\"Characters index: {labels[33390]}\")\n",
    "print(len(labels))\n",
    "\n",
    "# print(\"SIGNS DICT aka JSON\")\n",
    "# print(f\"Type: {type(signs_dictionary)}\")\n",
    "# print(f\"Length: {len(signs_dictionary)}\")\n",
    "# print(f\"Character: {signs_dictionary[13]}\")"
   ]
  },
  {
   "cell_type": "markdown",
   "metadata": {},
   "source": [
    "<h3> Occurrence of every character"
   ]
  },
  {
   "cell_type": "code",
   "execution_count": 11,
   "metadata": {},
   "outputs": [
    {
     "name": "stdout",
     "output_type": "stream",
     "text": [
      "Value 0 - occurs 6161 times. With starting index of 0\n",
      "Value 1 - occurs 6174 times. With starting index of 6161\n",
      "Value 2 - occurs 6183 times. With starting index of 75504\n",
      "Value 3 - occurs 6157 times. With starting index of 145899\n",
      "Value 4 - occurs 6173 times. With starting index of 214147\n",
      "Value 5 - occurs 6154 times. With starting index of 283548\n",
      "Value 6 - occurs 6149 times. With starting index of 355115\n",
      "Value 7 - occurs 6160 times. With starting index of 422474\n",
      "Value 8 - occurs 6168 times. With starting index of 489782\n",
      "Value 9 - occurs 6168 times. With starting index of 551987\n",
      "Value 10 - occurs 6072 times. With starting index of 12335\n",
      "Value 11 - occurs 6129 times. With starting index of 18407\n",
      "Value 12 - occurs 6058 times. With starting index of 24536\n",
      "Value 13 - occurs 6107 times. With starting index of 30594\n",
      "Value 14 - occurs 7154 times. With starting index of 36701\n",
      "Value 15 - occurs 6112 times. With starting index of 43855\n",
      "Value 16 - occurs 6097 times. With starting index of 49967\n",
      "Value 17 - occurs 7170 times. With starting index of 56064\n",
      "Value 18 - occurs 6148 times. With starting index of 63234\n",
      "Value 19 - occurs 6122 times. With starting index of 69382\n",
      "Value 20 - occurs 6110 times. With starting index of 81687\n",
      "Value 21 - occurs 6113 times. With starting index of 87797\n",
      "Value 22 - occurs 6094 times. With starting index of 93910\n",
      "Value 23 - occurs 6107 times. With starting index of 100004\n",
      "Value 24 - occurs 7161 times. With starting index of 106111\n",
      "Value 25 - occurs 6115 times. With starting index of 113272\n",
      "Value 26 - occurs 6085 times. With starting index of 119387\n",
      "Value 27 - occurs 7140 times. With starting index of 125472\n",
      "Value 28 - occurs 6105 times. With starting index of 132612\n",
      "Value 29 - occurs 7182 times. With starting index of 138717\n",
      "Value 30 - occurs 7158 times. With starting index of 152056\n",
      "Value 31 - occurs 6105 times. With starting index of 159214\n",
      "Value 32 - occurs 6113 times. With starting index of 165319\n",
      "Value 33 - occurs 6112 times. With starting index of 171432\n",
      "Value 34 - occurs 6114 times. With starting index of 177544\n",
      "Value 35 - occurs 6102 times. With starting index of 183658\n",
      "Value 36 - occurs 6103 times. With starting index of 189760\n",
      "Value 37 - occurs 6074 times. With starting index of 195863\n",
      "Value 38 - occurs 6103 times. With starting index of 201937\n",
      "Value 39 - occurs 6107 times. With starting index of 208040\n",
      "Value 40 - occurs 7159 times. With starting index of 220320\n",
      "Value 41 - occurs 6098 times. With starting index of 227479\n",
      "Value 42 - occurs 6075 times. With starting index of 233577\n",
      "Value 43 - occurs 7157 times. With starting index of 239652\n",
      "Value 44 - occurs 6126 times. With starting index of 246809\n",
      "Value 45 - occurs 6119 times. With starting index of 252935\n",
      "Value 46 - occurs 6115 times. With starting index of 259054\n",
      "Value 47 - occurs 6118 times. With starting index of 265169\n",
      "Value 48 - occurs 6132 times. With starting index of 271287\n",
      "Value 49 - occurs 6129 times. With starting index of 277419\n",
      "Value 50 - occurs 7196 times. With starting index of 289702\n",
      "Value 51 - occurs 6128 times. With starting index of 296898\n",
      "Value 52 - occurs 6110 times. With starting index of 303026\n",
      "Value 53 - occurs 7183 times. With starting index of 309136\n",
      "Value 54 - occurs 6114 times. With starting index of 316319\n",
      "Value 55 - occurs 7176 times. With starting index of 322433\n",
      "Value 56 - occurs 7162 times. With starting index of 329609\n",
      "Value 57 - occurs 6129 times. With starting index of 336771\n",
      "Value 58 - occurs 6127 times. With starting index of 342900\n",
      "Value 59 - occurs 6088 times. With starting index of 349027\n",
      "Value 60 - occurs 6111 times. With starting index of 361264\n",
      "Value 61 - occurs 6116 times. With starting index of 367375\n",
      "Value 62 - occurs 6126 times. With starting index of 373491\n",
      "Value 63 - occurs 6134 times. With starting index of 379617\n",
      "Value 64 - occurs 6161 times. With starting index of 385751\n",
      "Value 65 - occurs 6129 times. With starting index of 391912\n",
      "Value 66 - occurs 6117 times. With starting index of 398041\n",
      "Value 67 - occurs 6119 times. With starting index of 404158\n",
      "Value 68 - occurs 6107 times. With starting index of 410277\n",
      "Value 69 - occurs 6090 times. With starting index of 416384\n",
      "Value 70 - occurs 6093 times. With starting index of 428634\n",
      "Value 71 - occurs 6125 times. With starting index of 434727\n",
      "Value 72 - occurs 6149 times. With starting index of 440852\n",
      "Value 73 - occurs 6150 times. With starting index of 447001\n",
      "Value 74 - occurs 6111 times. With starting index of 453151\n",
      "Value 75 - occurs 6110 times. With starting index of 459262\n",
      "Value 76 - occurs 6143 times. With starting index of 465372\n",
      "Value 77 - occurs 6090 times. With starting index of 471515\n",
      "Value 78 - occurs 6078 times. With starting index of 477605\n",
      "Value 79 - occurs 6099 times. With starting index of 483683\n",
      "Value 80 - occurs 6080 times. With starting index of 495950\n",
      "Value 81 - occurs 7193 times. With starting index of 502030\n",
      "Value 82 - occurs 6154 times. With starting index of 509223\n",
      "Value 83 - occurs 6171 times. With starting index of 515377\n",
      "Value 84 - occurs 6108 times. With starting index of 521548\n",
      "Value 85 - occurs 6126 times. With starting index of 527656\n",
      "Value 86 - occurs 6099 times. With starting index of 533782\n",
      "Value 87 - occurs 6097 times. With starting index of 539881\n",
      "Value 88 - occurs 6009 times. With starting index of 545978\n"
     ]
    }
   ],
   "source": [
    "values, indexes, count_values = np.unique(labels, return_index=True, return_counts=True)\n",
    "for i in range(0, len(values)):\n",
    "    print(f\"Value {values[i]} - occurs {count_values[i]} times. With starting index of {indexes[i]}\")"
   ]
  },
  {
   "cell_type": "markdown",
   "metadata": {},
   "source": [
    "<h3> Separation data into train, test and validation sets\n"
   ]
  },
  {
   "cell_type": "code",
   "execution_count": 12,
   "metadata": {},
   "outputs": [],
   "source": [
    "X_train, X_test, Y_train, Y_test = train_test_split(signs, labels, test_size=0.2, stratify=labels)"
   ]
  },
  {
   "cell_type": "code",
   "execution_count": 13,
   "metadata": {},
   "outputs": [
    {
     "name": "stdout",
     "output_type": "stream",
     "text": [
      "Value 0 - occurs 1232 times.\n",
      "Value 1 - occurs 1235 times.\n",
      "Value 2 - occurs 1237 times.\n",
      "Value 3 - occurs 1231 times.\n",
      "Value 4 - occurs 1235 times.\n",
      "Value 5 - occurs 1231 times.\n",
      "Value 6 - occurs 1230 times.\n",
      "Value 7 - occurs 1232 times.\n",
      "Value 8 - occurs 1234 times.\n",
      "Value 9 - occurs 1234 times.\n",
      "Value 10 - occurs 1214 times.\n",
      "Value 11 - occurs 1226 times.\n",
      "Value 12 - occurs 1212 times.\n",
      "Value 13 - occurs 1221 times.\n",
      "Value 14 - occurs 1431 times.\n",
      "Value 15 - occurs 1222 times.\n",
      "Value 16 - occurs 1219 times.\n",
      "Value 17 - occurs 1434 times.\n",
      "Value 18 - occurs 1230 times.\n",
      "Value 19 - occurs 1224 times.\n",
      "Value 20 - occurs 1222 times.\n",
      "Value 21 - occurs 1223 times.\n",
      "Value 22 - occurs 1219 times.\n",
      "Value 23 - occurs 1221 times.\n",
      "Value 24 - occurs 1432 times.\n",
      "Value 25 - occurs 1223 times.\n",
      "Value 26 - occurs 1217 times.\n",
      "Value 27 - occurs 1428 times.\n",
      "Value 28 - occurs 1221 times.\n",
      "Value 29 - occurs 1436 times.\n",
      "Value 30 - occurs 1432 times.\n",
      "Value 31 - occurs 1221 times.\n",
      "Value 32 - occurs 1222 times.\n",
      "Value 33 - occurs 1222 times.\n",
      "Value 34 - occurs 1223 times.\n",
      "Value 35 - occurs 1220 times.\n",
      "Value 36 - occurs 1221 times.\n",
      "Value 37 - occurs 1215 times.\n",
      "Value 38 - occurs 1221 times.\n",
      "Value 39 - occurs 1221 times.\n",
      "Value 40 - occurs 1432 times.\n",
      "Value 41 - occurs 1220 times.\n",
      "Value 42 - occurs 1215 times.\n",
      "Value 43 - occurs 1431 times.\n",
      "Value 44 - occurs 1225 times.\n",
      "Value 45 - occurs 1224 times.\n",
      "Value 46 - occurs 1223 times.\n",
      "Value 47 - occurs 1224 times.\n",
      "Value 48 - occurs 1226 times.\n",
      "Value 49 - occurs 1226 times.\n",
      "Value 50 - occurs 1439 times.\n",
      "Value 51 - occurs 1225 times.\n",
      "Value 52 - occurs 1222 times.\n",
      "Value 53 - occurs 1437 times.\n",
      "Value 54 - occurs 1223 times.\n",
      "Value 55 - occurs 1435 times.\n",
      "Value 56 - occurs 1432 times.\n",
      "Value 57 - occurs 1226 times.\n",
      "Value 58 - occurs 1225 times.\n",
      "Value 59 - occurs 1218 times.\n",
      "Value 60 - occurs 1222 times.\n",
      "Value 61 - occurs 1223 times.\n",
      "Value 62 - occurs 1225 times.\n",
      "Value 63 - occurs 1227 times.\n",
      "Value 64 - occurs 1232 times.\n",
      "Value 65 - occurs 1226 times.\n",
      "Value 66 - occurs 1223 times.\n",
      "Value 67 - occurs 1224 times.\n",
      "Value 68 - occurs 1221 times.\n",
      "Value 69 - occurs 1218 times.\n",
      "Value 70 - occurs 1219 times.\n",
      "Value 71 - occurs 1225 times.\n",
      "Value 72 - occurs 1230 times.\n",
      "Value 73 - occurs 1230 times.\n",
      "Value 74 - occurs 1222 times.\n",
      "Value 75 - occurs 1222 times.\n",
      "Value 76 - occurs 1229 times.\n",
      "Value 77 - occurs 1218 times.\n",
      "Value 78 - occurs 1216 times.\n",
      "Value 79 - occurs 1220 times.\n",
      "Value 80 - occurs 1216 times.\n",
      "Value 81 - occurs 1438 times.\n",
      "Value 82 - occurs 1231 times.\n",
      "Value 83 - occurs 1234 times.\n",
      "Value 84 - occurs 1222 times.\n",
      "Value 85 - occurs 1225 times.\n",
      "Value 86 - occurs 1220 times.\n",
      "Value 87 - occurs 1219 times.\n",
      "Value 88 - occurs 1202 times.\n"
     ]
    }
   ],
   "source": [
    "values, count_values = np.unique(Y_test, return_counts=True)\n",
    "for i in range(0, len(values)):\n",
    "    print(f\"Value {values[i]} - occurs {count_values[i]} times.\")"
   ]
  },
  {
   "cell_type": "code",
   "execution_count": 14,
   "metadata": {},
   "outputs": [],
   "source": [
    "X_test, X_val, Y_test, Y_val = train_test_split(X_test, Y_test, test_size=0.5, stratify=Y_test)\n"
   ]
  },
  {
   "cell_type": "markdown",
   "metadata": {},
   "source": [
    "<h3> Saving datasets for working with Neural Network\n"
   ]
  },
  {
   "cell_type": "code",
   "execution_count": 15,
   "metadata": {},
   "outputs": [],
   "source": [
    "DATA_SAVE_PATH = \"/Users/mikolajstarczewski/Desktop/Magisterka/NN_with_py/nn_with_py/data_files/\"\n",
    "\n",
    "np.save(DATA_SAVE_PATH + \"X_train\", X_train)\n",
    "np.save(DATA_SAVE_PATH + \"Y_train\", Y_train)\n",
    "np.save(DATA_SAVE_PATH + \"X_test\", X_test)\n",
    "np.save(DATA_SAVE_PATH + \"Y_test\", Y_test)\n",
    "np.save(DATA_SAVE_PATH + \"X_val\", X_val)\n",
    "np.save(DATA_SAVE_PATH + \"Y_val\", Y_val)"
   ]
  },
  {
   "cell_type": "markdown",
   "metadata": {},
   "source": [
    "<h3 >Tests"
   ]
  },
  {
   "cell_type": "code",
   "execution_count": 26,
   "metadata": {},
   "outputs": [
    {
     "data": {
      "image/png": "[encoded data removed]",
      "text/plain": [
       "<Figure size 640x480 with 1 Axes>"
      ]
     },
     "metadata": {},
     "output_type": "display_data"
    },
    {
     "data": {
      "image/png": "[encoded data removed]",
      "text/plain": [
       "<Figure size 640x480 with 1 Axes>"
      ]
     },
     "metadata": {},
     "output_type": "display_data"
    },
    {
     "data": {
      "image/png": "[encoded data removed]",
      "text/plain": [
       "<Figure size 640x480 with 1 Axes>"
      ]
     },
     "metadata": {},
     "output_type": "display_data"
    }
   ],
   "source": [
    "for index in range(0, 3):\n",
    "    plt.title((Y_train[index]))\n",
    "    plt.imshow(X_train[index].reshape(32,32), cmap=cm.binary)\n",
    "    plt.show()"
   ]
  },
  {
   "cell_type": "code",
   "execution_count": null,
   "metadata": {},
   "outputs": [],
   "source": []
  }
 ],
 "metadata": {
  "kernelspec": {
   "display_name": "nn-with-py-04WZxK0C-py3.12",
   "language": "python",
   "name": "python3"
  },
  "language_info": {
   "codemirror_mode": {
    "name": "ipython",
    "version": 3
   },
   "file_extension": ".py",
   "mimetype": "text/x-python",
   "name": "python",
   "nbconvert_exporter": "python",
   "pygments_lexer": "ipython3",
   "version": "3.12.5"
  }
 },
 "nbformat": 4,
 "nbformat_minor": 2
}
